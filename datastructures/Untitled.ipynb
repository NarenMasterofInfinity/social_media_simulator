{
 "cells": [
  {
   "cell_type": "code",
   "execution_count": 4,
   "id": "2f4d6bc8",
   "metadata": {},
   "outputs": [
    {
     "name": "stdout",
     "output_type": "stream",
     "text": [
      "0 - 1\tWeight: 2\n",
      "1 - 2\tWeight: 3\n",
      "-1 - 3\tWeight: 9\n",
      "1 - 4\tWeight: 5\n"
     ]
    }
   ],
   "source": [
    "import sys\n",
    "\n",
    "def prims_algorithm(graph):\n",
    "    # Number of vertices in the graph\n",
    "    num_vertices = len(graph)\n",
    "    \n",
    "    # Array to store constructed MST\n",
    "    parent = [-1] * num_vertices\n",
    "    \n",
    "    # Key values used to pick minimum weight edge in cut\n",
    "    key = [sys.maxsize] * num_vertices\n",
    "    \n",
    "    # To represent set of vertices included in MST\n",
    "    mst_set = [False] * num_vertices\n",
    "    \n",
    "    # Always include the first 1st vertex in MST.\n",
    "    # Make key 0 so that this vertex is picked as first vertex.\n",
    "    key[3] = 0\n",
    "    \n",
    "    for _ in range(num_vertices):\n",
    "        # Pick the minimum key vertex from the set of vertices not yet included in MST\n",
    "        min_key = sys.maxsize\n",
    "        min_index = -1\n",
    "        \n",
    "        for v in range(num_vertices):\n",
    "            if key[v] < min_key and not mst_set[v]:\n",
    "                min_key = key[v]\n",
    "                min_index = v\n",
    "        \n",
    "        # Put the minimum key vertex in the MST set\n",
    "        u = min_index\n",
    "        mst_set[u] = True\n",
    "        \n",
    "        # Update key value and parent index of the adjacent vertices of the picked vertex.\n",
    "        for v in range(num_vertices):\n",
    "            if graph[u][v] > 0 and not mst_set[v] and key[v] > graph[u][v]:\n",
    "                key[v] = graph[u][v]\n",
    "                parent[v] = u\n",
    "    \n",
    "    # Print the constructed MST\n",
    "    for i in range(1, num_vertices):\n",
    "        print(f\"{parent[i]} - {i}\\tWeight: {graph[i][parent[i]]}\")\n",
    "\n",
    "# Example usage:\n",
    "graph = [\n",
    "    [0, 2, 0, 6, 0],\n",
    "    [2, 0, 3, 8, 5],\n",
    "    [0, 3, 0, 0, 7],\n",
    "    [6, 8, 0, 0, 9],\n",
    "    [0, 5, 7, 9, 0]\n",
    "]\n",
    "\n",
    "prims_algorithm(graph)\n"
   ]
  },
  {
   "cell_type": "code",
   "execution_count": null,
   "id": "d19df849",
   "metadata": {},
   "outputs": [],
   "source": []
  }
 ],
 "metadata": {
  "kernelspec": {
   "display_name": "Python 3 (ipykernel)",
   "language": "python",
   "name": "python3"
  },
  "language_info": {
   "codemirror_mode": {
    "name": "ipython",
    "version": 3
   },
   "file_extension": ".py",
   "mimetype": "text/x-python",
   "name": "python",
   "nbconvert_exporter": "python",
   "pygments_lexer": "ipython3",
   "version": "3.10.12"
  }
 },
 "nbformat": 4,
 "nbformat_minor": 5
}
